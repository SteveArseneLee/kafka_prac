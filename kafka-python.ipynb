{
 "cells": [
  {
   "cell_type": "markdown",
   "metadata": {},
   "source": [
    "# Producer"
   ]
  },
  {
   "cell_type": "code",
   "execution_count": 3,
   "metadata": {},
   "outputs": [
    {
     "ename": "NoBrokersAvailable",
     "evalue": "NoBrokersAvailable",
     "output_type": "error",
     "traceback": [
      "\u001b[1;31m---------------------------------------------------------------------------\u001b[0m",
      "\u001b[1;31mNoBrokersAvailable\u001b[0m                        Traceback (most recent call last)",
      "\u001b[1;32mc:\\Users\\lclgo\\Desktop\\kafka정리\\kafka-python.ipynb Cell 2'\u001b[0m in \u001b[0;36m<cell line: 5>\u001b[1;34m()\u001b[0m\n\u001b[0;32m      <a href='vscode-notebook-cell:/c%3A/Users/lclgo/Desktop/kafka%EC%A0%95%EB%A6%AC/kafka-python.ipynb#ch0000000?line=1'>2</a>\u001b[0m \u001b[39mfrom\u001b[39;00m \u001b[39mjson\u001b[39;00m \u001b[39mimport\u001b[39;00m dumps\n\u001b[0;32m      <a href='vscode-notebook-cell:/c%3A/Users/lclgo/Desktop/kafka%EC%A0%95%EB%A6%AC/kafka-python.ipynb#ch0000000?line=2'>3</a>\u001b[0m \u001b[39mimport\u001b[39;00m \u001b[39mtime\u001b[39;00m\n\u001b[1;32m----> <a href='vscode-notebook-cell:/c%3A/Users/lclgo/Desktop/kafka%EC%A0%95%EB%A6%AC/kafka-python.ipynb#ch0000000?line=4'>5</a>\u001b[0m producer \u001b[39m=\u001b[39m KafkaProducer(acks\u001b[39m=\u001b[39;49m\u001b[39m0\u001b[39;49m, compression_type\u001b[39m=\u001b[39;49m\u001b[39m'\u001b[39;49m\u001b[39mgzip\u001b[39;49m\u001b[39m'\u001b[39;49m, bootstrap_servers\u001b[39m=\u001b[39;49m[\u001b[39m'\u001b[39;49m\u001b[39mlocalhost:9092\u001b[39;49m\u001b[39m'\u001b[39;49m]),\n\u001b[0;32m      <a href='vscode-notebook-cell:/c%3A/Users/lclgo/Desktop/kafka%EC%A0%95%EB%A6%AC/kafka-python.ipynb#ch0000000?line=5'>6</a>\u001b[0m value_serializer \u001b[39m=\u001b[39m \u001b[39mlambda\u001b[39;00m x: dumps(x)\u001b[39m.\u001b[39mencode(\u001b[39m'\u001b[39m\u001b[39mutf-8\u001b[39m\u001b[39m'\u001b[39m)\n\u001b[0;32m      <a href='vscode-notebook-cell:/c%3A/Users/lclgo/Desktop/kafka%EC%A0%95%EB%A6%AC/kafka-python.ipynb#ch0000000?line=7'>8</a>\u001b[0m start \u001b[39m=\u001b[39m time\u001b[39m.\u001b[39mtime()\n",
      "File \u001b[1;32mc:\\Users\\lclgo\\Desktop\\kafka정리\\venv\\lib\\site-packages\\kafka\\producer\\kafka.py:381\u001b[0m, in \u001b[0;36mKafkaProducer.__init__\u001b[1;34m(self, **configs)\u001b[0m\n\u001b[0;32m    <a href='file:///c%3A/Users/lclgo/Desktop/kafka%EC%A0%95%EB%A6%AC/venv/lib/site-packages/kafka/producer/kafka.py?line=377'>378</a>\u001b[0m reporters \u001b[39m=\u001b[39m [reporter() \u001b[39mfor\u001b[39;00m reporter \u001b[39min\u001b[39;00m \u001b[39mself\u001b[39m\u001b[39m.\u001b[39mconfig[\u001b[39m'\u001b[39m\u001b[39mmetric_reporters\u001b[39m\u001b[39m'\u001b[39m]]\n\u001b[0;32m    <a href='file:///c%3A/Users/lclgo/Desktop/kafka%EC%A0%95%EB%A6%AC/venv/lib/site-packages/kafka/producer/kafka.py?line=378'>379</a>\u001b[0m \u001b[39mself\u001b[39m\u001b[39m.\u001b[39m_metrics \u001b[39m=\u001b[39m Metrics(metric_config, reporters)\n\u001b[1;32m--> <a href='file:///c%3A/Users/lclgo/Desktop/kafka%EC%A0%95%EB%A6%AC/venv/lib/site-packages/kafka/producer/kafka.py?line=380'>381</a>\u001b[0m client \u001b[39m=\u001b[39m KafkaClient(metrics\u001b[39m=\u001b[39m\u001b[39mself\u001b[39m\u001b[39m.\u001b[39m_metrics, metric_group_prefix\u001b[39m=\u001b[39m\u001b[39m'\u001b[39m\u001b[39mproducer\u001b[39m\u001b[39m'\u001b[39m,\n\u001b[0;32m    <a href='file:///c%3A/Users/lclgo/Desktop/kafka%EC%A0%95%EB%A6%AC/venv/lib/site-packages/kafka/producer/kafka.py?line=381'>382</a>\u001b[0m                      wakeup_timeout_ms\u001b[39m=\u001b[39m\u001b[39mself\u001b[39m\u001b[39m.\u001b[39mconfig[\u001b[39m'\u001b[39m\u001b[39mmax_block_ms\u001b[39m\u001b[39m'\u001b[39m],\n\u001b[0;32m    <a href='file:///c%3A/Users/lclgo/Desktop/kafka%EC%A0%95%EB%A6%AC/venv/lib/site-packages/kafka/producer/kafka.py?line=382'>383</a>\u001b[0m                      \u001b[39m*\u001b[39m\u001b[39m*\u001b[39m\u001b[39mself\u001b[39m\u001b[39m.\u001b[39mconfig)\n\u001b[0;32m    <a href='file:///c%3A/Users/lclgo/Desktop/kafka%EC%A0%95%EB%A6%AC/venv/lib/site-packages/kafka/producer/kafka.py?line=384'>385</a>\u001b[0m \u001b[39m# Get auto-discovered version from client if necessary\u001b[39;00m\n\u001b[0;32m    <a href='file:///c%3A/Users/lclgo/Desktop/kafka%EC%A0%95%EB%A6%AC/venv/lib/site-packages/kafka/producer/kafka.py?line=385'>386</a>\u001b[0m \u001b[39mif\u001b[39;00m \u001b[39mself\u001b[39m\u001b[39m.\u001b[39mconfig[\u001b[39m'\u001b[39m\u001b[39mapi_version\u001b[39m\u001b[39m'\u001b[39m] \u001b[39mis\u001b[39;00m \u001b[39mNone\u001b[39;00m:\n",
      "File \u001b[1;32mc:\\Users\\lclgo\\Desktop\\kafka정리\\venv\\lib\\site-packages\\kafka\\client_async.py:244\u001b[0m, in \u001b[0;36mKafkaClient.__init__\u001b[1;34m(self, **configs)\u001b[0m\n\u001b[0;32m    <a href='file:///c%3A/Users/lclgo/Desktop/kafka%EC%A0%95%EB%A6%AC/venv/lib/site-packages/kafka/client_async.py?line=241'>242</a>\u001b[0m \u001b[39mif\u001b[39;00m \u001b[39mself\u001b[39m\u001b[39m.\u001b[39mconfig[\u001b[39m'\u001b[39m\u001b[39mapi_version\u001b[39m\u001b[39m'\u001b[39m] \u001b[39mis\u001b[39;00m \u001b[39mNone\u001b[39;00m:\n\u001b[0;32m    <a href='file:///c%3A/Users/lclgo/Desktop/kafka%EC%A0%95%EB%A6%AC/venv/lib/site-packages/kafka/client_async.py?line=242'>243</a>\u001b[0m     check_timeout \u001b[39m=\u001b[39m \u001b[39mself\u001b[39m\u001b[39m.\u001b[39mconfig[\u001b[39m'\u001b[39m\u001b[39mapi_version_auto_timeout_ms\u001b[39m\u001b[39m'\u001b[39m] \u001b[39m/\u001b[39m \u001b[39m1000\u001b[39m\n\u001b[1;32m--> <a href='file:///c%3A/Users/lclgo/Desktop/kafka%EC%A0%95%EB%A6%AC/venv/lib/site-packages/kafka/client_async.py?line=243'>244</a>\u001b[0m     \u001b[39mself\u001b[39m\u001b[39m.\u001b[39mconfig[\u001b[39m'\u001b[39m\u001b[39mapi_version\u001b[39m\u001b[39m'\u001b[39m] \u001b[39m=\u001b[39m \u001b[39mself\u001b[39;49m\u001b[39m.\u001b[39;49mcheck_version(timeout\u001b[39m=\u001b[39;49mcheck_timeout)\n",
      "File \u001b[1;32mc:\\Users\\lclgo\\Desktop\\kafka정리\\venv\\lib\\site-packages\\kafka\\client_async.py:927\u001b[0m, in \u001b[0;36mKafkaClient.check_version\u001b[1;34m(self, node_id, timeout, strict)\u001b[0m\n\u001b[0;32m    <a href='file:///c%3A/Users/lclgo/Desktop/kafka%EC%A0%95%EB%A6%AC/venv/lib/site-packages/kafka/client_async.py?line=923'>924</a>\u001b[0m \u001b[39m# Timeout\u001b[39;00m\n\u001b[0;32m    <a href='file:///c%3A/Users/lclgo/Desktop/kafka%EC%A0%95%EB%A6%AC/venv/lib/site-packages/kafka/client_async.py?line=924'>925</a>\u001b[0m \u001b[39melse\u001b[39;00m:\n\u001b[0;32m    <a href='file:///c%3A/Users/lclgo/Desktop/kafka%EC%A0%95%EB%A6%AC/venv/lib/site-packages/kafka/client_async.py?line=925'>926</a>\u001b[0m     \u001b[39mself\u001b[39m\u001b[39m.\u001b[39m_lock\u001b[39m.\u001b[39mrelease()\n\u001b[1;32m--> <a href='file:///c%3A/Users/lclgo/Desktop/kafka%EC%A0%95%EB%A6%AC/venv/lib/site-packages/kafka/client_async.py?line=926'>927</a>\u001b[0m     \u001b[39mraise\u001b[39;00m Errors\u001b[39m.\u001b[39mNoBrokersAvailable()\n",
      "\u001b[1;31mNoBrokersAvailable\u001b[0m: NoBrokersAvailable"
     ]
    }
   ],
   "source": [
    "from kafka import KafkaProducer\n",
    "from json import dumps\n",
    "import time\n",
    "\n",
    "producer = KafkaProducer(acks=0, compression_type='gzip', bootstrap_servers=['localhost:9092']),\n",
    "value_serializer = lambda x: dumps(x).encode('utf-8')\n",
    "\n",
    "start = time.time()\n",
    "for i in range(10000):\n",
    "    data = {'str' : 'result' + str(i)}\n",
    "    producer.send('test', value=data)\n",
    "    producer.flush()\n",
    "    \n",
    "print(\"elapsed :\", time.time() - start)"
   ]
  },
  {
   "cell_type": "markdown",
   "metadata": {},
   "source": [
    "# Consumer"
   ]
  },
  {
   "cell_type": "code",
   "execution_count": 2,
   "metadata": {},
   "outputs": [
    {
     "ename": "KafkaConfigurationError",
     "evalue": "KafkaConfigurationError: Unrecognized configs: {'auto_offset_rest', 'value_serializer'}",
     "output_type": "error",
     "traceback": [
      "\u001b[1;31m---------------------------------------------------------------------------\u001b[0m",
      "\u001b[1;31mKafkaConfigurationError\u001b[0m                   Traceback (most recent call last)",
      "\u001b[1;32mc:\\Users\\lclgo\\Desktop\\kafka정리\\kafka-python.ipynb Cell 4'\u001b[0m in \u001b[0;36m<cell line: 5>\u001b[1;34m()\u001b[0m\n\u001b[0;32m      <a href='vscode-notebook-cell:/c%3A/Users/lclgo/Desktop/kafka%EC%A0%95%EB%A6%AC/kafka-python.ipynb#ch0000003?line=1'>2</a>\u001b[0m \u001b[39mfrom\u001b[39;00m \u001b[39mjson\u001b[39;00m \u001b[39mimport\u001b[39;00m loads\n\u001b[0;32m      <a href='vscode-notebook-cell:/c%3A/Users/lclgo/Desktop/kafka%EC%A0%95%EB%A6%AC/kafka-python.ipynb#ch0000003?line=3'>4</a>\u001b[0m \u001b[39m# topic, broker list\u001b[39;00m\n\u001b[1;32m----> <a href='vscode-notebook-cell:/c%3A/Users/lclgo/Desktop/kafka%EC%A0%95%EB%A6%AC/kafka-python.ipynb#ch0000003?line=4'>5</a>\u001b[0m consumer \u001b[39m=\u001b[39m KafkaConsumer(\n\u001b[0;32m      <a href='vscode-notebook-cell:/c%3A/Users/lclgo/Desktop/kafka%EC%A0%95%EB%A6%AC/kafka-python.ipynb#ch0000003?line=5'>6</a>\u001b[0m     \u001b[39m'\u001b[39;49m\u001b[39mtest\u001b[39;49m\u001b[39m'\u001b[39;49m,\n\u001b[0;32m      <a href='vscode-notebook-cell:/c%3A/Users/lclgo/Desktop/kafka%EC%A0%95%EB%A6%AC/kafka-python.ipynb#ch0000003?line=6'>7</a>\u001b[0m     bootstrap_servers\u001b[39m=\u001b[39;49m[\u001b[39m'\u001b[39;49m\u001b[39mlocalhost:9092\u001b[39;49m\u001b[39m'\u001b[39;49m],\n\u001b[0;32m      <a href='vscode-notebook-cell:/c%3A/Users/lclgo/Desktop/kafka%EC%A0%95%EB%A6%AC/kafka-python.ipynb#ch0000003?line=7'>8</a>\u001b[0m     auto_offset_rest\u001b[39m=\u001b[39;49m\u001b[39m'\u001b[39;49m\u001b[39mearlist\u001b[39;49m\u001b[39m'\u001b[39;49m,\n\u001b[0;32m      <a href='vscode-notebook-cell:/c%3A/Users/lclgo/Desktop/kafka%EC%A0%95%EB%A6%AC/kafka-python.ipynb#ch0000003?line=8'>9</a>\u001b[0m     enable_auto_commit\u001b[39m=\u001b[39;49m\u001b[39mTrue\u001b[39;49;00m,\n\u001b[0;32m     <a href='vscode-notebook-cell:/c%3A/Users/lclgo/Desktop/kafka%EC%A0%95%EB%A6%AC/kafka-python.ipynb#ch0000003?line=9'>10</a>\u001b[0m     group_id\u001b[39m=\u001b[39;49m\u001b[39m'\u001b[39;49m\u001b[39mmy-group\u001b[39;49m\u001b[39m'\u001b[39;49m,\n\u001b[0;32m     <a href='vscode-notebook-cell:/c%3A/Users/lclgo/Desktop/kafka%EC%A0%95%EB%A6%AC/kafka-python.ipynb#ch0000003?line=10'>11</a>\u001b[0m     value_serializer\u001b[39m=\u001b[39;49m\u001b[39mlambda\u001b[39;49;00m x: loads(x\u001b[39m.\u001b[39;49mdecode(\u001b[39m'\u001b[39;49m\u001b[39mutf-8\u001b[39;49m\u001b[39m'\u001b[39;49m)),\n\u001b[0;32m     <a href='vscode-notebook-cell:/c%3A/Users/lclgo/Desktop/kafka%EC%A0%95%EB%A6%AC/kafka-python.ipynb#ch0000003?line=11'>12</a>\u001b[0m     consumer_timeout_ms\u001b[39m=\u001b[39;49m\u001b[39m1000\u001b[39;49m\n\u001b[0;32m     <a href='vscode-notebook-cell:/c%3A/Users/lclgo/Desktop/kafka%EC%A0%95%EB%A6%AC/kafka-python.ipynb#ch0000003?line=12'>13</a>\u001b[0m )\n\u001b[0;32m     <a href='vscode-notebook-cell:/c%3A/Users/lclgo/Desktop/kafka%EC%A0%95%EB%A6%AC/kafka-python.ipynb#ch0000003?line=14'>15</a>\u001b[0m \u001b[39m# consumer list 가져오기\u001b[39;00m\n\u001b[0;32m     <a href='vscode-notebook-cell:/c%3A/Users/lclgo/Desktop/kafka%EC%A0%95%EB%A6%AC/kafka-python.ipynb#ch0000003?line=15'>16</a>\u001b[0m \u001b[39mprint\u001b[39m(\u001b[39m'\u001b[39m\u001b[39m[begin] get consumer list\u001b[39m\u001b[39m'\u001b[39m)\n",
      "File \u001b[1;32mc:\\Users\\lclgo\\Desktop\\kafka정리\\venv\\lib\\site-packages\\kafka\\consumer\\group.py:316\u001b[0m, in \u001b[0;36mKafkaConsumer.__init__\u001b[1;34m(self, *topics, **configs)\u001b[0m\n\u001b[0;32m    <a href='file:///c%3A/Users/lclgo/Desktop/kafka%EC%A0%95%EB%A6%AC/venv/lib/site-packages/kafka/consumer/group.py?line=313'>314</a>\u001b[0m extra_configs \u001b[39m=\u001b[39m \u001b[39mset\u001b[39m(configs)\u001b[39m.\u001b[39mdifference(\u001b[39mself\u001b[39m\u001b[39m.\u001b[39mDEFAULT_CONFIG)\n\u001b[0;32m    <a href='file:///c%3A/Users/lclgo/Desktop/kafka%EC%A0%95%EB%A6%AC/venv/lib/site-packages/kafka/consumer/group.py?line=314'>315</a>\u001b[0m \u001b[39mif\u001b[39;00m extra_configs:\n\u001b[1;32m--> <a href='file:///c%3A/Users/lclgo/Desktop/kafka%EC%A0%95%EB%A6%AC/venv/lib/site-packages/kafka/consumer/group.py?line=315'>316</a>\u001b[0m     \u001b[39mraise\u001b[39;00m KafkaConfigurationError(\u001b[39m\"\u001b[39m\u001b[39mUnrecognized configs: \u001b[39m\u001b[39m%s\u001b[39;00m\u001b[39m\"\u001b[39m \u001b[39m%\u001b[39m (extra_configs,))\n\u001b[0;32m    <a href='file:///c%3A/Users/lclgo/Desktop/kafka%EC%A0%95%EB%A6%AC/venv/lib/site-packages/kafka/consumer/group.py?line=317'>318</a>\u001b[0m \u001b[39mself\u001b[39m\u001b[39m.\u001b[39mconfig \u001b[39m=\u001b[39m copy\u001b[39m.\u001b[39mcopy(\u001b[39mself\u001b[39m\u001b[39m.\u001b[39mDEFAULT_CONFIG)\n\u001b[0;32m    <a href='file:///c%3A/Users/lclgo/Desktop/kafka%EC%A0%95%EB%A6%AC/venv/lib/site-packages/kafka/consumer/group.py?line=318'>319</a>\u001b[0m \u001b[39mself\u001b[39m\u001b[39m.\u001b[39mconfig\u001b[39m.\u001b[39mupdate(configs)\n",
      "\u001b[1;31mKafkaConfigurationError\u001b[0m: KafkaConfigurationError: Unrecognized configs: {'auto_offset_rest', 'value_serializer'}"
     ]
    }
   ],
   "source": [
    "from kafka import KafkaConsumer\n",
    "from json import loads\n",
    "\n",
    "# topic, broker list\n",
    "consumer = KafkaConsumer(\n",
    "    'test',\n",
    "    bootstrap_servers=['localhost:9092'],\n",
    "    auto_offset_rest='earlist',\n",
    "    enable_auto_commit=True,\n",
    "    group_id='my-group',\n",
    "    value_serializer=lambda x: loads(x.decode('utf-8')),\n",
    "    consumer_timeout_ms=1000\n",
    ")\n",
    "\n",
    "# consumer list 가져오기\n",
    "print('[begin] get consumer list')\n",
    "for message in consumer:\n",
    "    print(\"Topic: %s, Partition: %d, offset: %d, Key: %s, Value: %s\" %(\n",
    "        message.topic, message.partition, message.offset, message.key, message.value\n",
    "    ))\n",
    "print('[end] get consumer list')"
   ]
  }
 ],
 "metadata": {
  "interpreter": {
   "hash": "655fb06d50ec51a849798a5bd87f030be25577ae95bacfe8ba7117c754813ba8"
  },
  "kernelspec": {
   "display_name": "Python 3.9.7 ('venv': venv)",
   "language": "python",
   "name": "python3"
  },
  "language_info": {
   "codemirror_mode": {
    "name": "ipython",
    "version": 3
   },
   "file_extension": ".py",
   "mimetype": "text/x-python",
   "name": "python",
   "nbconvert_exporter": "python",
   "pygments_lexer": "ipython3",
   "version": "3.9.7"
  },
  "orig_nbformat": 4
 },
 "nbformat": 4,
 "nbformat_minor": 2
}
